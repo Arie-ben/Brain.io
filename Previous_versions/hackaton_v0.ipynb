{
 "cells": [
  {
   "cell_type": "code",
   "execution_count": 1,
   "metadata": {
    "collapsed": false
   },
   "outputs": [],
   "source": [
    "import pandas as pd\n",
    "import re\n",
    "from collections import Counter\n",
    "from operator import itemgetter\n",
    "import os"
   ]
  },
  {
   "cell_type": "code",
   "execution_count": 17,
   "metadata": {
    "collapsed": false
   },
   "outputs": [],
   "source": [
    "def is_url_valid(url):\n",
    "    if url[:4] != \"http\":\n",
    "        return False\n",
    "    return True\n",
    "    \n",
    "\n",
    "def domain_without_www(domain):\n",
    "    if domain[:4] == \"www.\":\n",
    "        return domain[4:]\n",
    "    return domain\n",
    "\n",
    "\n",
    "def filter_rows(df):\n",
    "    df['is_valid'] = df.url.apply(is_url_valid)\n",
    "    df = df[df['is_valid'] == True]\n",
    "    df = df.drop(['is_valid'], axis=1)\n",
    "    df['domain'] = df.domain.apply(domain_without_www)\n",
    "    df = df.dropna()\n",
    "    df = df.sort_values('visit_time_ms', ascending=False)\n",
    "    return df.reset_index().drop('index', axis=1)\n",
    "\n",
    "\n",
    "def fuck_of_this_domain(df, domains):\n",
    "    for domain in domains:\n",
    "        df = df.loc[df['domain'] != domain]\n",
    "    return df.reset_index().drop('index', axis=1)\n",
    "    \n",
    "\n",
    "def clean_date(df):   \n",
    "    df.day = [re.sub('[-:]', '/', df.day[i]) for i in range(len(df))]\n",
    "    \n",
    "    for i in range(len(df)):\n",
    "        try:\n",
    "            df.day[i] = pd.to_datetime(df.day[i] + '-'+ df.time[i])\n",
    "        except ValueError:\n",
    "            df.day[i] = None\n",
    "    return filter_rows(df.drop('time', axis=1))\n",
    "\n",
    "\n",
    "def find_indexes(df, url):\n",
    "    return df.loc[df['url'] ==  url].index.tolist()\n",
    "\n",
    "\n",
    "def replace_same_url(df, url, indexes):\n",
    "    for index in range(len(indexes)):\n",
    "        if df.url[index] == url:\n",
    "            indexes.pop(index)\n",
    "            last_i = indexes[-1] + 1\n",
    "            while df.url[last_i] == url:\n",
    "                last_i += 1\n",
    "            indexes += [last_i]\n",
    "    return indexes\n",
    "\n",
    "\n",
    "def weighted_urls(df, url, previous_url, NUM_OF_NEXT=5, NUM_OF_PREVIOUS=2):\n",
    "        \n",
    "    indexes_after = [range(element - NUM_OF_NEXT, element) for element in find_indexes(df, url)]\n",
    "    for match in indexes_after:\n",
    "        match = replace_same_url(df, url, match)\n",
    "    indexes_before = [range(element + 1, element + 1 + NUM_OF_PREVIOUS) for element in find_indexes(df, url)]\n",
    "\n",
    "\n",
    "    weights = [float(1)/2**i for i in range(NUM_OF_NEXT)]\n",
    "    urls_before = [df.url[i].values  for i in indexes_before]\n",
    "    urls_after = [df.url[i].values  for i in indexes_after]\n",
    "    urls_weighted = []\n",
    "    \n",
    "    for j in range(len(urls_after)):\n",
    "        weights = [float(1)/2**(NUM_OF_NEXT - i -1) for i in range(NUM_OF_NEXT)]\n",
    "        coef = 1\n",
    "        i = 0\n",
    "        while i < NUM_OF_PREVIOUS and previous_url[i] == urls_before[j][i]:\n",
    "            weights = [weight*2 for weight in weights]\n",
    "            i += 1\n",
    "        urls_weighted.append([(urls_after[j][k], weights[k]) for k in range(len(weights))])            \n",
    "    return urls_weighted\n",
    "\n",
    "\n",
    "def get_weigths(df, url, previous_url):\n",
    "    weigth_dic = {}\n",
    "    for url_list in weighted_urls(df, url, previous_url):\n",
    "        for url in url_list:\n",
    "            if url[0] in weigth_dic:\n",
    "                weigth_dic[url[0]] += url[1]\n",
    "            else:\n",
    "                weigth_dic[url[0]] = url[1]\n",
    "\n",
    "    return sorted(weigth_dic.items(), key=itemgetter(1), reverse=True)\n",
    "\n",
    "\n",
    "def is_in_time(df, index, threshold):\n",
    "    if df.day[index-1] - df.day[index] < pd.Timedelta(threshold, 's') :\n",
    "        return False\n",
    "    else:\n",
    "        return True\n",
    "\n",
    "def to_int(number):\n",
    "    if not isinstance(number, float) and \",\" in number:\n",
    "        number = float(number.replace(\",\", \".\"))\n",
    "    return number\n",
    "\n",
    "\n",
    "def delta(df):\n",
    "    df.visit_time_ms = df.visit_time_ms.apply(to_int)\n",
    "    df = df.sort_values('visit_time_ms', ascending = False)\n",
    "    df['delta'] = [float(df.visit_time_ms[index]) - float(df.visit_time_ms[index + 1]) for index in range(df.shape[0] - 1)] + [0]\n",
    "    return df"
   ]
  },
  {
   "cell_type": "code",
   "execution_count": 18,
   "metadata": {
    "collapsed": true
   },
   "outputs": [],
   "source": [
    "def treat_data(df_path, filtered_domains):\n",
    "    df = pd.read_csv(df_path, delimiter=\";\", header=None)\n",
    "    df.columns = (['url', 'domain', 'root domain', 'visit_time_ms', 'visit_time_str', 'day of the week', 'transition_type', 'page title'])\n",
    "    df = df[['url', 'domain', 'visit_time_ms', 'visit_time_str', 'transition_type']]\n",
    "    df = filter_rows(df)\n",
    "    df = fuck_of_this_domain(df, filtered_domains)\n",
    "    df = delta(df)\n",
    "    return df\n",
    "\n",
    "\n",
    "def get_other_databases(folder_path, filtered_domains):\n",
    "    df_list = []\n",
    "    for df in os.listdir(folder_path):\n",
    "        df_list.append(treat_data(folder_path + os.path.basename(df), filtered_domains))\n",
    "    return df_list"
   ]
  },
  {
   "cell_type": "code",
   "execution_count": 19,
   "metadata": {
    "collapsed": false
   },
   "outputs": [
    {
     "name": "stdout",
     "output_type": "stream",
     "text": [
      "(6344, 6)\n",
      "(3456, 6)\n",
      "(11907, 6)\n",
      "(1337, 6)\n",
      "(3506, 6)\n",
      "(992, 6)\n",
      "(405, 6)\n"
     ]
    }
   ],
   "source": [
    "filtered_domains = (['whatsapp.com','web.whatsapp.com', 'twitter.com', 'linkedin.com',\n",
    "                     'google.co.il','fr-fr.messenger.com','youtube.com','facebook.com', 'localhost',\n",
    "                     'plus.google.com','google.fr', 'mail.google.com', 'google.com','messenger.com',\n",
    "                     'listenonrepeat.com', 'drive.google.com', 'docs.google.com', 'calendar.google.com',\n",
    "                     'chrome.google.com', 'gmail.com', ])\n",
    "df_path = 'databases/antho_secrets.csv'\n",
    "folder_path = 'databases/other_databases/'\n",
    "df = treat_data(df_path, filtered_domains)\n",
    "df_list = get_other_databases(folder_path, filtered_domains)\n",
    "for db in df_list:\n",
    "    print db.shape"
   ]
  },
  {
   "cell_type": "code",
   "execution_count": 15,
   "metadata": {
    "collapsed": false
   },
   "outputs": [
    {
     "ename": "NameError",
     "evalue": "global name 'sec_num' is not defined",
     "output_type": "error",
     "traceback": [
      "\u001b[0;31m---------------------------------------------------------------------------\u001b[0m",
      "\u001b[0;31mNameError\u001b[0m                                 Traceback (most recent call last)",
      "\u001b[0;32m<ipython-input-15-9ffc1d2ca81e>\u001b[0m in \u001b[0;36m<module>\u001b[0;34m()\u001b[0m\n\u001b[1;32m     10\u001b[0m \u001b[0;34m\u001b[0m\u001b[0m\n\u001b[1;32m     11\u001b[0m \u001b[0mx_axis\u001b[0m \u001b[0;34m=\u001b[0m \u001b[0mrange\u001b[0m\u001b[0;34m(\u001b[0m\u001b[0;36m100\u001b[0m\u001b[0;34m)\u001b[0m\u001b[0;34m\u001b[0m\u001b[0m\n\u001b[0;32m---> 12\u001b[0;31m \u001b[0my_axis\u001b[0m \u001b[0;34m=\u001b[0m \u001b[0;34m[\u001b[0m\u001b[0mpercentage\u001b[0m\u001b[0;34m(\u001b[0m\u001b[0mi\u001b[0m\u001b[0;34m)\u001b[0m \u001b[0;32mfor\u001b[0m \u001b[0mi\u001b[0m \u001b[0;32min\u001b[0m \u001b[0mx_axis\u001b[0m\u001b[0;34m]\u001b[0m\u001b[0;34m\u001b[0m\u001b[0m\n\u001b[0m\u001b[1;32m     13\u001b[0m \u001b[0mplt\u001b[0m\u001b[0;34m.\u001b[0m\u001b[0mplot\u001b[0m\u001b[0;34m(\u001b[0m\u001b[0mx_axis\u001b[0m\u001b[0;34m,\u001b[0m \u001b[0my_axis\u001b[0m\u001b[0;34m)\u001b[0m\u001b[0;34m\u001b[0m\u001b[0m\n",
      "\u001b[0;32m<ipython-input-15-9ffc1d2ca81e>\u001b[0m in \u001b[0;36mpercentage\u001b[0;34m(sec_number)\u001b[0m\n\u001b[1;32m      3\u001b[0m \u001b[0;34m\u001b[0m\u001b[0m\n\u001b[1;32m      4\u001b[0m \u001b[0;32mdef\u001b[0m \u001b[0mpercentage\u001b[0m\u001b[0;34m(\u001b[0m\u001b[0msec_number\u001b[0m\u001b[0;34m)\u001b[0m\u001b[0;34m:\u001b[0m\u001b[0;34m\u001b[0m\u001b[0m\n\u001b[0;32m----> 5\u001b[0;31m     \u001b[0ma\u001b[0m \u001b[0;34m=\u001b[0m \u001b[0mlen\u001b[0m\u001b[0;34m(\u001b[0m\u001b[0mdf\u001b[0m\u001b[0;34m[\u001b[0m\u001b[0mdf\u001b[0m\u001b[0;34m[\u001b[0m\u001b[0;34m'delta'\u001b[0m\u001b[0;34m]\u001b[0m \u001b[0;34m<\u001b[0m \u001b[0;36m1000\u001b[0m \u001b[0;34m*\u001b[0m \u001b[0msec_num\u001b[0m\u001b[0;34m]\u001b[0m\u001b[0;34m)\u001b[0m\u001b[0;34m\u001b[0m\u001b[0m\n\u001b[0m\u001b[1;32m      6\u001b[0m     \u001b[0;32mprint\u001b[0m \u001b[0ma\u001b[0m\u001b[0;34m\u001b[0m\u001b[0m\n\u001b[1;32m      7\u001b[0m     \u001b[0mb\u001b[0m \u001b[0;34m=\u001b[0m \u001b[0mlen\u001b[0m\u001b[0;34m(\u001b[0m\u001b[0mdf\u001b[0m\u001b[0;34m)\u001b[0m\u001b[0;34m\u001b[0m\u001b[0m\n",
      "\u001b[0;31mNameError\u001b[0m: global name 'sec_num' is not defined"
     ]
    }
   ],
   "source": [
    "import matplotlib.pyplot as plt\n",
    "%matplotlib inline\n",
    "\n",
    "def percentage(sec_number):\n",
    "    a = len(df[df['delta'] < 1000 * sec_num])\n",
    "    print a\n",
    "    b = len(df)\n",
    "    c = float(a)/b*100\n",
    "    return c\n",
    "\n",
    "x_axis = range(100)\n",
    "y_axis = [percentage(i) for i in x_axis]\n",
    "plt.plot(x_axis, y_axis)"
   ]
  },
  {
   "cell_type": "code",
   "execution_count": 22,
   "metadata": {
    "collapsed": false,
    "scrolled": true
   },
   "outputs": [
    {
     "name": "stdout",
     "output_type": "stream",
     "text": [
      "---------------------------------------------------------------------------------------------------\n",
      "\n",
      "\n",
      "---------------------------------------------------------------------------------------------------\n",
      "---------------------------------------------------------------------------------------------------\n",
      "\n",
      "\n",
      "---------------------------------------------------------------------------------------------------\n",
      "http://stackoverflow.com/questions/9504356/convert-string-into-date-type-on-python\n",
      "http://scikit-learn.org/stable/modules/generated/sklearn.svm.SVR.html\n",
      "http://scikit-learn.org/stable/modules/generated/sklearn.ensemble.RandomForestRegressor.html\n",
      "http://stackoverflow.com/questions/41000428/python-typeerror-cannot-convert-the-series-to-class-int-when-trying-to-do-m\n",
      "http://www.programcreek.com/python/example/86673/scipy.stats.probplot\n",
      "http://stackoverflow.com/questions/2803852/python-date-string-to-date-object\n",
      "https://docs.scipy.org/doc/scipy/reference/stats.html\n",
      "http://matplotlib.org/devdocs/api/_as_gen/matplotlib.axes.Axes.plot_date.html\n",
      "http://stackoverflow.com/questions/2600775/how-to-get-week-number-in-python\n",
      "http://stackoverflow.com/questions/26666919/python-pandas-add-column-in-dataframe-from-list\n",
      "---------------------------------------------------------------------------------------------------\n",
      "\n",
      "\n",
      "---------------------------------------------------------------------------------------------------\n",
      "---------------------------------------------------------------------------------------------------\n",
      "\n",
      "\n",
      "---------------------------------------------------------------------------------------------------\n",
      "https://docs.python.org/3/library/datetime.html\n",
      "https://docs.python.org/2/library/datetime.html\n",
      "http://stackoverflow.com/questions/16151402/python-how-can-i-check-whether-an-object-is-of-type-datetime-date\n",
      "http://stackoverflow.com/questions/17134716/convert-dataframe-column-type-from-string-to-datetime\n",
      "https://docs.python.org/2/library/re.html\n",
      "https://pymotw.com/2/datetime/\n",
      "https://docs.python.org/2.7/tutorial/errors.html\n",
      "http://pandas.pydata.org/pandas-docs/stable/generated/pandas.to_timedelta.html\n",
      "http://stackoverflow.com/questions/14661701/how-to-drop-a-list-of-rows-from-pandas-dataframe\n",
      "http://stackoverflow.com/\n",
      "https://codealike.com/Settings/Account\n",
      "http://superuser.com/questions/244062/how-do-i-view-add-or-edit-cookies-in-google-chrome\n",
      "---------------------------------------------------------------------------------------------------\n",
      "\n",
      "\n",
      "---------------------------------------------------------------------------------------------------\n",
      "---------------------------------------------------------------------------------------------------\n",
      "\n",
      "\n",
      "---------------------------------------------------------------------------------------------------\n",
      "---------------------------------------------------------------------------------------------------\n",
      "\n",
      "\n",
      "---------------------------------------------------------------------------------------------------\n"
     ]
    }
   ],
   "source": [
    "arg2, arg3 = 'https://docs.python.org/2/library/datetime.html', ['', '']\n",
    "get_weigths(df, arg2, arg3)\n",
    "for dataframe in df_list:\n",
    "    for i in get_weigths(dataframe, arg2, arg3):\n",
    "        print i[0]\n",
    "    print \"---------------------------------------------------------------------------------------------------\\n\\n\"\n",
    "    print \"---------------------------------------------------------------------------------------------------\""
   ]
  },
  {
   "cell_type": "code",
   "execution_count": 24,
   "metadata": {
    "collapsed": false
   },
   "outputs": [],
   "source": [
    "file = open(\"others.txt\", \"w\")\n",
    "for url in results_other:\n",
    "    file.write(url)\n",
    "    file.write(\"/n\")\n",
    "file.close()\n",
    "\n",
    "file = open(\"yourself.txt\", \"w\")\n",
    "for url in results_yourself:\n",
    "    file.write(url)\n",
    "    file.write(\"/n\")\n",
    "file.close()\n",
    "\n",
    "file = open(\"youtube.txt\", \"w\")\n",
    "for url in results_yourself:\n",
    "    file.write(url)\n",
    "    file.write(\"/n\")\n",
    "file.close()"
   ]
  },
  {
   "cell_type": "code",
   "execution_count": 29,
   "metadata": {
    "collapsed": true
   },
   "outputs": [],
   "source": []
  },
  {
   "cell_type": "code",
   "execution_count": 28,
   "metadata": {
    "collapsed": true
   },
   "outputs": [],
   "source": []
  },
  {
   "cell_type": "code",
   "execution_count": null,
   "metadata": {
    "collapsed": true
   },
   "outputs": [],
   "source": []
  }
 ],
 "metadata": {
  "anaconda-cloud": {},
  "kernelspec": {
   "display_name": "Python [conda root]",
   "language": "python",
   "name": "conda-root-py"
  },
  "language_info": {
   "codemirror_mode": {
    "name": "ipython",
    "version": 2
   },
   "file_extension": ".py",
   "mimetype": "text/x-python",
   "name": "python",
   "nbconvert_exporter": "python",
   "pygments_lexer": "ipython2",
   "version": "2.7.12"
  }
 },
 "nbformat": 4,
 "nbformat_minor": 1
}
