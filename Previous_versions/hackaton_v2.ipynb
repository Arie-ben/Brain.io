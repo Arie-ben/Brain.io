{
 "cells": [
  {
   "cell_type": "code",
   "execution_count": 36,
   "metadata": {
    "collapsed": false
   },
   "outputs": [],
   "source": [
    "import pandas as pd\n",
    "import re\n",
    "from collections import Counter\n",
    "from operator import itemgetter\n",
    "import os"
   ]
  },
  {
   "cell_type": "code",
   "execution_count": 37,
   "metadata": {
    "collapsed": false
   },
   "outputs": [],
   "source": [
    "def is_url_valid(url):\n",
    "    if url[:4] != \"http\":\n",
    "        return False\n",
    "    return True\n",
    "    \n",
    "\n",
    "def domain_without_www(domain):\n",
    "    if domain[:4] == \"www.\":\n",
    "        return domain[4:]\n",
    "    return domain\n",
    "\n",
    "\n",
    "def filter_rows(df):\n",
    "    df['is_valid'] = df.url.apply(is_url_valid)\n",
    "    df = df[df['is_valid'] == True]\n",
    "    df = df.drop(['is_valid'], axis=1)\n",
    "    df['domain'] = df.domain.apply(domain_without_www)\n",
    "    df = df.dropna()\n",
    "    df = df.sort_values('visit_time_ms', ascending=False)\n",
    "    return df.reset_index().drop('index', axis=1)\n",
    "\n",
    "\n",
    "def fuck_of_this_domain(df, domains):\n",
    "    for domain in domains:\n",
    "        df = df.loc[df['domain'] != domain]\n",
    "    return df.reset_index().drop('index', axis=1)\n",
    "    \n",
    "\n",
    "def clean_date(df):   \n",
    "    df.day = [re.sub('[-:]', '/', df.day[i]) for i in range(len(df))]\n",
    "    \n",
    "    for i in range(len(df)):\n",
    "        try:\n",
    "            df.day[i] = pd.to_datetime(df.day[i] + '-'+ df.time[i])\n",
    "        except ValueError:\n",
    "            df.day[i] = None\n",
    "    return filter_rows(df.drop('time', axis=1))\n",
    "\n",
    "\n",
    "def find_indexes(df, url):\n",
    "    return df.loc[df['url'] ==  url].index.tolist()\n",
    "\n",
    "\n",
    "def next_urls(df, url):\n",
    "    indexes = [element - 1 for element in find_indexes(df, url)]\n",
    "    return db.url[indexes]\n",
    "\n",
    "\n",
    "def weighted_urls(df, url, previous_url, NUM_OF_NEXT=5, NUM_OF_PREVIOUS=2):\n",
    "        \n",
    "    indexes_after = [range(element - NUM_OF_NEXT, element) for element in find_indexes(df, url)]\n",
    "    indexes_before = [range(element + 1, element + 1 + NUM_OF_PREVIOUS) for element in find_indexes(df, url)]\n",
    "\n",
    "\n",
    "    weights = [float(1)/2**i for i in range(NUM_OF_NEXT)]\n",
    "    urls_before = [df.url[i].values  for i in indexes_before]\n",
    "    urls_after = [df.url[i].values  for i in indexes_after]\n",
    "    urls_weighted = []\n",
    "    \n",
    "    for j in range(len(urls_after)):\n",
    "        weights = [float(1)/2**(NUM_OF_NEXT - i -1) for i in range(NUM_OF_NEXT)]\n",
    "        coef = 1\n",
    "        i = 0\n",
    "        while i < NUM_OF_PREVIOUS and previous_url[i] == urls_before[j][i]:\n",
    "            weights = [weight*2 for weight in weights]\n",
    "            i += 1\n",
    "        urls_weighted.append([(urls_after[j][k], weights[k]) for k in range(len(weights))])            \n",
    "    return urls_weighted\n",
    "\n",
    "\n",
    "def get_weigths(df, url, previous_url):\n",
    "    weigth_dic = {}\n",
    "    for url_list in weighted_urls(df, url, previous_url):\n",
    "        for url in url_list:\n",
    "            if url[0] in weigth_dic:\n",
    "                weigth_dic[url[0]] += url[1]\n",
    "            else:\n",
    "                weigth_dic[url[0]] = url[1]\n",
    "\n",
    "    return sorted(weigth_dic.items(), key=itemgetter(1), reverse=True)\n",
    "\n",
    "\n",
    "def is_in_time(df, index, threshold):\n",
    "    if df.day[index-1] - df.day[index] < pd.Timedelta(threshold, 's') :\n",
    "        return False\n",
    "    else:\n",
    "        return True"
   ]
  },
  {
   "cell_type": "code",
   "execution_count": 38,
   "metadata": {
    "collapsed": true
   },
   "outputs": [],
   "source": [
    "def treat_data(df_path, filtered_domains):\n",
    "    df = pd.read_csv(df_path, delimiter=\";\", header=None)\n",
    "    df.columns = (['url', 'domain', 'root domain', 'visit_time_ms', 'visit_time_str', 'day of the week', 'transition_type', 'page title'])\n",
    "    df = df[['url', 'domain', 'visit_time_ms', 'visit_time_str', 'transition_type']]\n",
    "    df = filter_rows(df)\n",
    "    df = fuck_of_this_domain(df, filtered_domains)\n",
    "    return df\n",
    "\n",
    "\n",
    "def get_other_databases(folder_path, filtered_domains):\n",
    "    df_list = []\n",
    "    for df in os.listdir(folder_path):\n",
    "        df_list.append(treat_data(folder_path + os.path.basename(df), filtered_domains))\n",
    "    return df_list"
   ]
  },
  {
   "cell_type": "code",
   "execution_count": 39,
   "metadata": {
    "collapsed": false
   },
   "outputs": [
    {
     "name": "stdout",
     "output_type": "stream",
     "text": [
      "(6344, 5)\n",
      "(3456, 5)\n",
      "(11907, 5)\n",
      "(1337, 5)\n",
      "(3506, 5)\n",
      "(992, 5)\n",
      "(405, 5)\n"
     ]
    }
   ],
   "source": [
    "filtered_domains = (['whatsapp.com','web.whatsapp.com', 'twitter.com', 'linkedin.com','google.co.il','fr-fr.messenger.com','youtube.com','facebook.com', 'localhost','plus.google.com','google.fr', 'mail.google.com', 'google.com','messenger.com','listenonrepeat.com', 'drive.google.com', 'docs.google.com', 'calendar.google.com', 'chrome.google.com', 'gmail.com', ])\n",
    "df_path = 'databases/antho_secrets.csv'\n",
    "big_df_path = 'databases/big_df.sql'\n",
    "folder_path = 'databases/other_databases/'\n",
    "df = treat_data(df_path, filtered_domains)\n",
    "df_list = get_other_databases(folder_path, filtered_domains)\n",
    "for db in df_list:\n",
    "    print db.shape"
   ]
  },
  {
   "cell_type": "code",
   "execution_count": 40,
   "metadata": {
    "collapsed": false
   },
   "outputs": [
    {
     "name": "stdout",
     "output_type": "stream",
     "text": [
      "---------------------------------------------------------------------------------------------------\n",
      "\n",
      "\n",
      "---------------------------------------------------------------------------------------------------\n",
      "---------------------------------------------------------------------------------------------------\n",
      "\n",
      "\n",
      "---------------------------------------------------------------------------------------------------\n",
      "('http://stackoverflow.com/questions/9504356/convert-string-into-date-type-on-python', 1.0)\n",
      "('http://scikit-learn.org/stable/modules/generated/sklearn.svm.SVR.html', 1.0)\n",
      "('http://scikit-learn.org/stable/modules/generated/sklearn.ensemble.RandomForestRegressor.html', 0.5)\n",
      "('http://stackoverflow.com/questions/41000428/python-typeerror-cannot-convert-the-series-to-class-int-when-trying-to-do-m', 0.5)\n",
      "('http://www.programcreek.com/python/example/86673/scipy.stats.probplot', 0.25)\n",
      "('http://stackoverflow.com/questions/2803852/python-date-string-to-date-object', 0.25)\n",
      "('https://docs.scipy.org/doc/scipy/reference/stats.html', 0.125)\n",
      "('http://matplotlib.org/devdocs/api/_as_gen/matplotlib.axes.Axes.plot_date.html', 0.125)\n",
      "('http://stackoverflow.com/questions/2600775/how-to-get-week-number-in-python', 0.0625)\n",
      "('http://stackoverflow.com/questions/26666919/python-pandas-add-column-in-dataframe-from-list', 0.0625)\n",
      "---------------------------------------------------------------------------------------------------\n",
      "\n",
      "\n",
      "---------------------------------------------------------------------------------------------------\n",
      "---------------------------------------------------------------------------------------------------\n",
      "\n",
      "\n",
      "---------------------------------------------------------------------------------------------------\n",
      "('https://docs.python.org/3/library/datetime.html', 2.5)\n",
      "('https://docs.python.org/2/library/datetime.html', 1.375)\n",
      "('http://stackoverflow.com/questions/16151402/python-how-can-i-check-whether-an-object-is-of-type-datetime-date', 1.1875)\n",
      "('http://stackoverflow.com/questions/17134716/convert-dataframe-column-type-from-string-to-datetime', 0.75)\n",
      "('https://docs.python.org/2/library/re.html', 0.5625)\n",
      "('https://pymotw.com/2/datetime/', 0.5)\n",
      "('https://docs.python.org/2.7/tutorial/errors.html', 0.25)\n",
      "('http://pandas.pydata.org/pandas-docs/stable/generated/pandas.to_timedelta.html', 0.25)\n",
      "('http://stackoverflow.com/questions/14661701/how-to-drop-a-list-of-rows-from-pandas-dataframe', 0.125)\n",
      "('http://stackoverflow.com/', 0.125)\n",
      "('https://codealike.com/Settings/Account', 0.0625)\n",
      "('http://superuser.com/questions/244062/how-do-i-view-add-or-edit-cookies-in-google-chrome', 0.0625)\n",
      "---------------------------------------------------------------------------------------------------\n",
      "\n",
      "\n",
      "---------------------------------------------------------------------------------------------------\n",
      "---------------------------------------------------------------------------------------------------\n",
      "\n",
      "\n",
      "---------------------------------------------------------------------------------------------------\n",
      "---------------------------------------------------------------------------------------------------\n",
      "\n",
      "\n",
      "---------------------------------------------------------------------------------------------------\n"
     ]
    }
   ],
   "source": [
    "arg2, arg3 = 'https://docs.python.org/2/library/datetime.html', [ \"https://www.google.co.il/webhp?sourceid=chrome-instant&ion=1&espv=2&ie=UTF-8#q=Timedelta('1+days+00%3A00%3A00')\",\n",
    "       'https://www.google.co.il/webhp?sourceid=chrome-instant&ion=1&espv=2&ie=UTF-8']\n",
    "get_weigths(df, arg2, arg3)\n",
    "for dataframe in df_list:\n",
    "    for i in get_weigths(dataframe, arg2, arg3):\n",
    "        print i\n",
    "    print \"---------------------------------------------------------------------------------------------------\\n\\n\"\n",
    "    print \"---------------------------------------------------------------------------------------------------\"\n",
    "\n"
   ]
  },
  {
   "cell_type": "code",
   "execution_count": null,
   "metadata": {
    "collapsed": false
   },
   "outputs": [],
   "source": []
  },
  {
   "cell_type": "code",
   "execution_count": null,
   "metadata": {
    "collapsed": true
   },
   "outputs": [],
   "source": []
  }
 ],
 "metadata": {
  "anaconda-cloud": {},
  "kernelspec": {
   "display_name": "Python [conda root]",
   "language": "python",
   "name": "conda-root-py"
  },
  "language_info": {
   "codemirror_mode": {
    "name": "ipython",
    "version": 2
   },
   "file_extension": ".py",
   "mimetype": "text/x-python",
   "name": "python",
   "nbconvert_exporter": "python",
   "pygments_lexer": "ipython2",
   "version": "2.7.12"
  }
 },
 "nbformat": 4,
 "nbformat_minor": 1
}
