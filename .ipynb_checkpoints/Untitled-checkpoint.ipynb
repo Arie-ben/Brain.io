{
 "cells": [
  {
   "cell_type": "code",
   "execution_count": 52,
   "metadata": {
    "collapsed": true
   },
   "outputs": [],
   "source": [
    "import pandas as pd\n",
    "db = pd.read_csv('history.csv', header=None, usecols=[0, 1, 2])\n",
    "db.columns=['day', 'time', 'url']"
   ]
  },
  {
   "cell_type": "code",
   "execution_count": 53,
   "metadata": {
    "collapsed": true
   },
   "outputs": [],
   "source": [
    "def get_domain_name(url):\n",
    "    if url[:4] == \"http\" :\n",
    "        name = url.split(\"//\")[-1].split(\"/\")[0]\n",
    "        if name[:4] == \"www.\":\n",
    "            return name[4:]\n",
    "        return name\n",
    "    return None\n",
    "\n",
    "\n",
    "def add_domain(df):\n",
    "    df['domain'] = df.url.apply(get_domain_name)\n",
    "    return df\n",
    "\n",
    "\n",
    "def filter_rows(df):\n",
    "    df = df.dropna()\n",
    "    return df"
   ]
  },
  {
   "cell_type": "code",
   "execution_count": 54,
   "metadata": {
    "collapsed": false
   },
   "outputs": [],
   "source": [
    "db = add_domain(db)\n",
    "db = filter_rows(db)"
   ]
  },
  {
   "cell_type": "code",
   "execution_count": 55,
   "metadata": {
    "collapsed": false
   },
   "outputs": [
    {
     "data": {
      "text/plain": [
       "[2040, 2063, 2166, 2264, 2269, 2273, 2327, 2332]"
      ]
     },
     "execution_count": 55,
     "metadata": {},
     "output_type": "execute_result"
    }
   ],
   "source": [
    "def find_indexes(url):\n",
    "    return db.loc[db['url'] ==  url].index.tolist()\n",
    "\n",
    "find_indexes('http://9gag.com/')"
   ]
  },
  {
   "cell_type": "code",
   "execution_count": 56,
   "metadata": {
    "collapsed": false
   },
   "outputs": [
    {
     "data": {
      "text/plain": [
       "array(['9gag.com', 'translate.google.com', 'watch-episodes.com',\n",
       "       'youtube.com', 'youtube.com', 'youtube.com', 'google.co.il',\n",
       "       'google.co.il'], dtype=object)"
      ]
     },
     "execution_count": 56,
     "metadata": {},
     "output_type": "execute_result"
    }
   ],
   "source": [
    "def next_url(url):\n",
    "    indexes = [element - 1 for element in find_indexes(url)]\n",
    "    return db.domain[indexes].values\n",
    "\n",
    "next_url('http://9gag.com/')"
   ]
  },
  {
   "cell_type": "code",
   "execution_count": 123,
   "metadata": {
    "collapsed": false
   },
   "outputs": [
    {
     "name": "stdout",
     "output_type": "stream",
     "text": [
      "8\n"
     ]
    },
    {
     "data": {
      "text/plain": [
       "[[('9gag.com', 0.0625),\n",
       "  ('9gag.com', 0.125),\n",
       "  ('9gag.com', 0.25),\n",
       "  ('9gag.com', 0.5),\n",
       "  ('9gag.com', 1.0)],\n",
       " [('google.co.il', 0.25),\n",
       "  ('lri.fr', 0.5),\n",
       "  ('people.fas.harvard.edu', 1.0),\n",
       "  ('google.co.il', 2.0),\n",
       "  ('translate.google.com', 4.0)],\n",
       " [('watchepisodes3.com', 0.0625),\n",
       "  ('google.co.il', 0.125),\n",
       "  ('watchepisodes3.com', 0.25),\n",
       "  ('watchepisodes3.com', 0.5),\n",
       "  ('watch-episodes.com', 1.0)],\n",
       " [('youtube.com', 0.0625),\n",
       "  ('youtube.com', 0.125),\n",
       "  ('youtube.com', 0.25),\n",
       "  ('youtube.com', 0.5),\n",
       "  ('youtube.com', 1.0)],\n",
       " [('9gag.com', 0.0625),\n",
       "  ('youtube.com', 0.125),\n",
       "  ('youtube.com', 0.25),\n",
       "  ('youtube.com', 0.5),\n",
       "  ('youtube.com', 1.0)],\n",
       " [('youtube.com', 0.0625),\n",
       "  ('9gag.com', 0.125),\n",
       "  ('youtube.com', 0.25),\n",
       "  ('lefigaro.fr', 0.5),\n",
       "  ('youtube.com', 1.0)],\n",
       " [('tutorialspoint.com', 0.0625),\n",
       "  ('google.co.il', 0.125),\n",
       "  ('stackoverflow.com', 0.25),\n",
       "  ('google.co.il', 0.5),\n",
       "  ('google.co.il', 1.0)],\n",
       " [('9gag.com', 0.0625),\n",
       "  ('google.co.il', 0.125),\n",
       "  ('google.co.il', 0.25),\n",
       "  ('google.co.il', 0.5),\n",
       "  ('google.co.il', 1.0)]]"
      ]
     },
     "execution_count": 123,
     "metadata": {},
     "output_type": "execute_result"
    }
   ],
   "source": [
    "def weighted_urls(db, url, previous_url):\n",
    "    \n",
    "    NUM_OF_NEXT = 5\n",
    "    NUM_OF_PREVIOUS = 2\n",
    "        \n",
    "    indexes_after = [range(element - NUM_OF_NEXT, element) for element in find_indexes(url)]\n",
    "    indexes_before = [range(element + 1, element + 1 + NUM_OF_PREVIOUS) for element in find_indexes(url)]\n",
    "\n",
    "\n",
    "    weights = [float(1)/2**i for i in range(WEIGHTS_NUM)]\n",
    "    urls_before = [db.domain[i].values  for i in indexes_before]\n",
    "    urls_after = [db.domain[i].values  for i in indexes_after]\n",
    "    urls_weighted = []\n",
    "    \n",
    "    for j in range(len(urls_after)):\n",
    "        weights = [float(1)/2**(NUM_OF_NEXT - i -1) for i in range(NUM_OF_NEXT)]\n",
    "        coef = 1\n",
    "        i = 0\n",
    "        while i < NUM_OF_PREVIOUS and previous_url[i] == urls_before[j][i]:\n",
    "            weights = [weight*2 for weight in weights]\n",
    "            i += 1\n",
    "        urls_weighted.append([(urls_after[j][k], weights[k]) for k in range(len(weights))])        \n",
    "        \n",
    "    return urls_weighted\n",
    "    \n",
    "\n",
    "weighted_urls(db, 'http://9gag.com/', ['hive.itcapp.com', 'youtube.com'])"
   ]
  },
  {
   "cell_type": "code",
   "execution_count": 80,
   "metadata": {
    "collapsed": false
   },
   "outputs": [
    {
     "data": {
      "text/plain": [
       "[1.0, 0.5, 0.25, 0.125, 0.0625]"
      ]
     },
     "execution_count": 80,
     "metadata": {},
     "output_type": "execute_result"
    }
   ],
   "source": [
    "weights = [float(1)/2**i for i in range(5)]\n",
    "weights"
   ]
  },
  {
   "cell_type": "code",
   "execution_count": 67,
   "metadata": {
    "collapsed": false
   },
   "outputs": [
    {
     "name": "stdout",
     "output_type": "stream",
     "text": [
      "[('youtube.com', 3), ('9gag.com', 1), ('google.co.il', 2), ('translate.google.com', 1), ('watch-episodes.com', 1)]\n"
     ]
    },
    {
     "data": {
      "text/plain": [
       "[('youtube.com', 3),\n",
       " ('google.co.il', 2),\n",
       " ('9gag.com', 1),\n",
       " ('translate.google.com', 1),\n",
       " ('watch-episodes.com', 1)]"
      ]
     },
     "execution_count": 67,
     "metadata": {},
     "output_type": "execute_result"
    }
   ],
   "source": [
    "from collections import Counter\n",
    "\n",
    "input = next_page('http://9gag.com/')\n",
    "c = Counter( input )\n",
    "print( c.items() )\n",
    "\n",
    "sorted(c.items(), key=lambda student: student[1], reverse=True)"
   ]
  },
  {
   "cell_type": "code",
   "execution_count": null,
   "metadata": {
    "collapsed": true
   },
   "outputs": [],
   "source": []
  }
 ],
 "metadata": {
  "anaconda-cloud": {},
  "kernelspec": {
   "display_name": "Python [conda root]",
   "language": "python",
   "name": "conda-root-py"
  },
  "language_info": {
   "codemirror_mode": {
    "name": "ipython",
    "version": 2
   },
   "file_extension": ".py",
   "mimetype": "text/x-python",
   "name": "python",
   "nbconvert_exporter": "python",
   "pygments_lexer": "ipython2",
   "version": "2.7.12"
  }
 },
 "nbformat": 4,
 "nbformat_minor": 1
}
